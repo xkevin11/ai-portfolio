{
 "cells": [
  {
   "cell_type": "markdown",
   "metadata": {},
   "source": [
    "# Mini-Project: Coding Minimax"
   ]
  },
  {
   "cell_type": "markdown",
   "metadata": {},
   "source": [
    "Now that the lectures have introduced the core concept of minimax and you've walked through the basic procedure in the quizzes the next step is to do it all with code. In this exercise you're going to implement the minimax algorithm to solve the same game presented in the lecture quizzes. This mini-project won't be submitted for review, but it'll give you a head start on the first part of the project for this module.\n",
    "\n",
    "We're going to work through minimax search in three parts:\n",
    "\n",
    "1. Review the algorithm in pseudocode\n",
    "2. Develop a class to represent the game state and rules of the game\n",
    "3. Implement the minimax algorithm\n"
   ]
  },
  {
   "cell_type": "markdown",
   "metadata": {},
   "source": [
    "## Part 1: Minimax Search Pseudocode"
   ]
  },
  {
   "cell_type": "markdown",
   "metadata": {},
   "source": [
    "<p>The Artificial Intelligence a Modern Approach textbook provides psuedocode for the minimax algorithm that defines a pair of <a target=\"_blank\" href=\"https://en.wikipedia.org/wiki/Mutual_recursion\">mutually recursive</a> helper functions that traverse the min and max levels of the game tree to find the value of each branch, and a decision function called from the root node that chooses the optimal move from the root of the game tree based on the value of each branch.  The two helper functions are nearly identical except for the utility returned in terminal states, and the use of the max or min comparison function.</p>\n",
    "<p><strong>Note:</strong> It is also common to see minimax presented as a simply <a target=\"_blank\" href=\"https://en.wikipedia.org/wiki/Minimax#Pseudocode\">recursive function</a> by treating the helper functions as conditional branches, or even (under certain assumptions) to eliminate separate cases for handling min and max levels altogether as in <a target=\"_blank\" href=\"https://en.wikipedia.org/wiki/Negamax#Negamax_base_algorithm\">negamax</a>.  However, we will adhere to the version from the AIMA text in this exercise, because it separates the functionality for handling the min level and max level nodes (which makes it easier to test), and more clearly illustrates that you only need to choose a move from the root node -- all other children nodes only need to return a value.</p>"
   ]
  },
  {
   "cell_type": "markdown",
   "metadata": {},
   "source": [
    "## Part 2: Game State Representation"
   ]
  },
  {
   "cell_type": "markdown",
   "metadata": {},
   "source": [
    "<p>To code the minimax algorithm, first you'll implement a class to keep track of the game state for the mini-isolation game from Thad's quiz. The game state object will handle all of the rules of the game, and include all of the information describing the specific configuration of the game at a particular point in time. At a minimum, the board state needs to keep track of which cells are open and closed; which player has initiative (whose turn it is to move); and where each player is on the board. (<em>Note: Remember to block off the lower right corner when you create a new board!</em>)  Your class only needs to define two methods: <code>forecast_move()</code> and <code>get_legal_moves()</code>.</p>\n",
    "<p>We will attach a coordinate frame to the board in the top left corner and set the x axis to move from left to right and the y axis to move from top to bottom. Each cell on the board can be described by an ordered pair <code>(x, y)</code>. Thus (0, 0) is the top-left corner; (2, 1) is the bottom right corner (the blocked cell).</p>\n",
    "<p>The <code>forecast_move()</code> method will take a move (a pair of coordinates <code>(x, y)</code> of the desired endpoint of the player) and return a <strong>new</strong> game state object (you should not mutate game state objects). Treating the game state as immutable makes it trivial to roll out and unwind each branch of the game tree (children nodes will simply be garbage collected when the caller returns). (<em>Hint:</em> check out the <code>copy.deepcopy</code> module from the standard library to copy your board state.)</p>\n",
    "<p>The <code>get_legal_moves()</code> method takes no arguments and returns a <code>list</code> (the tests will fail for any other type of collection) of moves available to the active player in the current state. The \"active\" player is the agent with initiative to move (e.g., on an empty board player 1 is the active player). According to the game rules, each player can move to any open square for their first move, and then to any open square along a row, column, or diagonal from their current position. (Note that players cannot jump or pass through blocked squares.)</p>"
   ]
  },
  {
   "cell_type": "markdown",
   "metadata": {},
   "source": [
    "### gamestate.py"
   ]
  },
  {
   "cell_type": "code",
   "execution_count": 4,
   "metadata": {
    "collapsed": true
   },
   "outputs": [],
   "source": [
    "# Kev's Code\n",
    "\n",
    "import copy\n",
    "\n",
    "xlim, ylim = 3, 2\n",
    "\n",
    "class GameState:\n",
    "\n",
    "    def __init__(self):\n",
    "        self._board = {(0,0): 'Open',\n",
    "                    (1,0): 'Open',\n",
    "                    (2,0): 'Open',\n",
    "                    (0,1): 'Open',\n",
    "                    (1,1): 'Open',\n",
    "                    (2,1): 'Closed'}\n",
    "        self._active_player = 'player1'\n",
    "        self._player1_location = ()\n",
    "        self._player2_location = ()\n",
    "    \n",
    "    def forecast_move(self, move):\n",
    "        \"\"\" Return a new board object with the specified move\n",
    "        applied to the current game state.\n",
    "        \n",
    "        Parameters\n",
    "        ----------\n",
    "        move: tuple\n",
    "            The target position for the active player's next move\n",
    "        \"\"\"\n",
    "        if move not in self.get_legal_moves():\n",
    "            raise RuntimeError(\"Attempted forecast of illegal move\")\n",
    "        new_board = copy.deepcopy(self)\n",
    "        new_board._board[move] = 'Closed'\n",
    "        if new_board._active_player == 'player1':\n",
    "            new_board._player1_location = move\n",
    "            new_board._active_player = 'player2'\n",
    "        else:\n",
    "            new_board._player2_location = move\n",
    "            new_board._active_player = 'player1'\n",
    "        return new_board\n",
    "    \n",
    "    def get_legal_moves(self):\n",
    "        \"\"\" Return a list of all legal moves available to the\n",
    "        active player.  Each player should get a list of all\n",
    "        empty spaces on the board on their first move, and\n",
    "        otherwise they should get a list of all open spaces\n",
    "        in a straight line along any row, column or diagonal\n",
    "        from their current position. (Players CANNOT move\n",
    "        through obstacles or blocked squares.) Moves should\n",
    "        be a pair of integers in (column, row) order specifying\n",
    "        the zero-indexed coordinates on the board.\n",
    "        \"\"\"\n",
    "        if self._active_player == 'player1':\n",
    "            _player_location = self._player1_location\n",
    "        else:\n",
    "            _player_location = self._player2_location\n",
    "        \n",
    "        # first move\n",
    "        if _player_location == ():\n",
    "            # everywhere that's blank\n",
    "            return self._get_blank_spaces()\n",
    "    \n",
    "        moves = []\n",
    "        rays = [(1, 0), (1, -1), (0, -1), (-1, -1),\n",
    "                (-1, 0), (-1, 1), (0, 1), (1, 1)]\n",
    "        for dx, dy in rays:\n",
    "            _x, _y = _player_location\n",
    "            while 0 <= _x + dx < xlim and 0 <= _y + dy < ylim:\n",
    "                _x, _y = _x + dx, _y + dy\n",
    "                if self._board[(_x, _y)] == 'Closed':\n",
    "                    break\n",
    "                moves.append((_x, _y))\n",
    "        return moves\n",
    "        \n",
    "\n",
    "    def _get_blank_spaces(self):\n",
    "        \"\"\" Return a list of blank spaces on the board.\"\"\"\n",
    "        return [k for k, v in self._board.items() if v == 'Open']\n",
    "        \n",
    "        \n",
    "        "
   ]
  },
  {
   "cell_type": "markdown",
   "metadata": {},
   "source": [
    "### solution.py"
   ]
  },
  {
   "cell_type": "code",
   "execution_count": 1,
   "metadata": {
    "collapsed": true
   },
   "outputs": [],
   "source": [
    "\n",
    "from copy import deepcopy\n",
    "\n",
    "xlim, ylim = 3, 2  # board dimensions\n",
    "\n",
    "class GameState:\n",
    "    \"\"\"\n",
    "    Attributes\n",
    "    ----------\n",
    "    _board: list(list)\n",
    "        Represent the board with a 2d array _board[x][y]\n",
    "        where open spaces are 0 and closed spaces are 1\n",
    "    \n",
    "    _parity: bool\n",
    "        Keep track of active player initiative (which\n",
    "        player has control to move) where 0 indicates that\n",
    "        player one has initiative and 1 indicates player 2\n",
    "    \n",
    "    _player_locations: list(tuple)\n",
    "        Keep track of the current location of each player\n",
    "        on the board where position is encoded by the\n",
    "        board indices of their last move, e.g., [(0, 0), (1, 0)]\n",
    "        means player 1 is at (0, 0) and player 2 is at (1, 0)\n",
    "    \n",
    "    \"\"\"\n",
    "\n",
    "    def __init__(self):\n",
    "        self._board = [[0] * ylim for _ in range(xlim)]\n",
    "        self._board[-1][-1] = 1  # block lower-right corner\n",
    "        self._parity = 0\n",
    "        self._player_locations = [None, None]\n",
    "\n",
    "    def forecast_move(self, move):\n",
    "        \"\"\" Return a new board object with the specified move\n",
    "        applied to the current game state.\n",
    "        \n",
    "        Parameters\n",
    "        ----------\n",
    "        move: tuple\n",
    "            The target position for the active player's next move\n",
    "        \"\"\"\n",
    "        if move not in self.get_legal_moves():\n",
    "            raise RuntimeError(\"Attempted forecast of illegal move\")\n",
    "        newBoard = deepcopy(self)\n",
    "        newBoard._board[move[0]][move[1]] = 1\n",
    "        newBoard._player_locations[self._parity] = move\n",
    "        newBoard._parity ^= 1\n",
    "        return newBoard\n",
    "\n",
    "    def get_legal_moves(self):\n",
    "        \"\"\" Return a list of all legal moves available to the\n",
    "        active player.  Each player should get a list of all\n",
    "        empty spaces on the board on their first move, and\n",
    "        otherwise they should get a list of all open spaces\n",
    "        in a straight line along any row, column or diagonal\n",
    "        from their current position. (Players CANNOT move\n",
    "        through obstacles or blocked squares.)\n",
    "        \"\"\"\n",
    "        loc = self._player_locations[self._parity]\n",
    "        if not loc:\n",
    "            return self._get_blank_spaces()\n",
    "        moves = []\n",
    "        rays = [(1, 0), (1, -1), (0, -1), (-1, -1),\n",
    "                (-1, 0), (-1, 1), (0, 1), (1, 1)]\n",
    "        for dx, dy in rays:\n",
    "            _x, _y = loc\n",
    "            while 0 <= _x + dx < xlim and 0 <= _y + dy < ylim:\n",
    "                _x, _y = _x + dx, _y + dy\n",
    "                if self._board[_x][_y]:\n",
    "                    break\n",
    "                moves.append((_x, _y))\n",
    "        return moves\n",
    "\n",
    "    def _get_blank_spaces(self):\n",
    "        \"\"\" Return a list of blank spaces on the board.\"\"\"\n",
    "        return [(x, y) for y in range(ylim) for x in range(xlim)\n",
    "                if self._board[x][y] == 0]\n"
   ]
  },
  {
   "cell_type": "markdown",
   "metadata": {},
   "source": [
    "### testcode.py"
   ]
  },
  {
   "cell_type": "code",
   "execution_count": 5,
   "metadata": {},
   "outputs": [
    {
     "name": "stdout",
     "output_type": "stream",
     "text": [
      "Creating empty game board...\n",
      "Getting legal moves for player 1...\n",
      "Found 5 legal moves.\n",
      "Applying move (0, 0) for player 1...\n",
      "Getting legal moves for player 2...\n",
      "Everything looks good!\n"
     ]
    }
   ],
   "source": [
    "# from gamestate import *\n",
    "\n",
    "print(\"Creating empty game board...\")\n",
    "g = GameState()\n",
    "\n",
    "print(\"Getting legal moves for player 1...\")\n",
    "p1_empty_moves = g.get_legal_moves()\n",
    "print(\"Found {} legal moves.\".format(len(p1_empty_moves or [])))\n",
    "\n",
    "print(\"Applying move (0, 0) for player 1...\")\n",
    "g1 = g.forecast_move((0, 0))\n",
    "\n",
    "print(\"Getting legal moves for player 2...\")\n",
    "p2_empty_moves = g1.get_legal_moves()\n",
    "if (0, 0) in set(p2_empty_moves):\n",
    "    print(\"Failed\\n  Uh oh! (0, 0) was not blocked properly when \" +\n",
    "          \"player 1 moved there.\")\n",
    "else:\n",
    "    print(\"Everything looks good!\")"
   ]
  },
  {
   "cell_type": "markdown",
   "metadata": {
    "collapsed": true
   },
   "source": [
    "### Kev's Testing"
   ]
  },
  {
   "cell_type": "code",
   "execution_count": 42,
   "metadata": {},
   "outputs": [
    {
     "name": "stdout",
     "output_type": "stream",
     "text": [
      "Getting legal moves for player 1...\n",
      "[(0, 0), (1, 0), (2, 0), (0, 1), (1, 1)]\n",
      "\n",
      "Applying move (0, 0) for player 1...\n",
      "New Board State: \n"
     ]
    },
    {
     "data": {
      "text/plain": [
       "{(0, 0): 'Closed',\n",
       " (0, 1): 'Open',\n",
       " (1, 0): 'Open',\n",
       " (1, 1): 'Open',\n",
       " (2, 0): 'Open',\n",
       " (2, 1): 'Closed'}"
      ]
     },
     "execution_count": 42,
     "metadata": {},
     "output_type": "execute_result"
    }
   ],
   "source": [
    "g = GameState()\n",
    "\n",
    "print(\"Getting legal moves for player 1...\")\n",
    "p1_empty_moves = g.get_legal_moves()\n",
    "\n",
    "print(p1_empty_moves)\n",
    "\n",
    "print('')\n",
    "print(\"Applying move (0, 0) for player 1...\")\n",
    "g1 = g.forecast_move((0, 0))\n",
    "\n",
    "print(\"New Board State: \")\n",
    "g1._board"
   ]
  },
  {
   "cell_type": "code",
   "execution_count": 35,
   "metadata": {},
   "outputs": [
    {
     "name": "stdout",
     "output_type": "stream",
     "text": [
      "Getting legal moves for player 2...\n",
      "[(1, 0), (2, 0), (0, 1), (1, 1)]\n",
      "\n",
      "Applying move (1, 0) for player 2...\n",
      "New Board State: \n"
     ]
    },
    {
     "data": {
      "text/plain": [
       "{(0, 0): 'Closed',\n",
       " (0, 1): 'Open',\n",
       " (1, 0): 'Closed',\n",
       " (1, 1): 'Open',\n",
       " (2, 0): 'Open',\n",
       " (2, 1): 'Closed'}"
      ]
     },
     "execution_count": 35,
     "metadata": {},
     "output_type": "execute_result"
    }
   ],
   "source": [
    "print(\"Getting legal moves for player 2...\")\n",
    "p2_empty_moves = g1.get_legal_moves()\n",
    "\n",
    "print(p2_empty_moves)\n",
    "\n",
    "print('')\n",
    "print(\"Applying move (1, 0) for player 2...\")\n",
    "g2 = g1.forecast_move((1, 0))\n",
    "\n",
    "print(\"New Board State: \")\n",
    "g2._board"
   ]
  },
  {
   "cell_type": "code",
   "execution_count": 36,
   "metadata": {},
   "outputs": [
    {
     "name": "stdout",
     "output_type": "stream",
     "text": [
      "Getting legal moves for player 1...\n",
      "[(0, 1), (1, 1)]\n",
      "\n",
      "Applying move (1, 1) for player 1...\n",
      "New Board State: \n"
     ]
    },
    {
     "data": {
      "text/plain": [
       "{(0, 0): 'Closed',\n",
       " (0, 1): 'Open',\n",
       " (1, 0): 'Closed',\n",
       " (1, 1): 'Closed',\n",
       " (2, 0): 'Open',\n",
       " (2, 1): 'Closed'}"
      ]
     },
     "execution_count": 36,
     "metadata": {},
     "output_type": "execute_result"
    }
   ],
   "source": [
    "print(\"Getting legal moves for player 1...\")\n",
    "p1_empty_moves = g2.get_legal_moves()\n",
    "print(p1_empty_moves)\n",
    "\n",
    "print('')\n",
    "print(\"Applying move (1, 1) for player 1...\")\n",
    "g3 = g2.forecast_move((1, 1))\n",
    "\n",
    "print(\"New Board State: \")\n",
    "g3._board"
   ]
  },
  {
   "cell_type": "code",
   "execution_count": 43,
   "metadata": {},
   "outputs": [
    {
     "name": "stdout",
     "output_type": "stream",
     "text": [
      "Getting legal moves for player 2...\n",
      "[(2, 0), (0, 1)]\n",
      "\n",
      "Applying move (0, 1) for player 2...\n",
      "New Board State: \n"
     ]
    },
    {
     "data": {
      "text/plain": [
       "{(0, 0): 'Closed',\n",
       " (0, 1): 'Closed',\n",
       " (1, 0): 'Closed',\n",
       " (1, 1): 'Closed',\n",
       " (2, 0): 'Open',\n",
       " (2, 1): 'Closed'}"
      ]
     },
     "execution_count": 43,
     "metadata": {},
     "output_type": "execute_result"
    }
   ],
   "source": [
    "print(\"Getting legal moves for player 2...\")\n",
    "p2_empty_moves = g3.get_legal_moves()\n",
    "print(p2_empty_moves)\n",
    "\n",
    "print('')\n",
    "print(\"Applying move (0, 1) for player 2...\")\n",
    "g4 = g3.forecast_move((0, 1))\n",
    "\n",
    "print(\"New Board State: \")\n",
    "g4._board"
   ]
  },
  {
   "cell_type": "code",
   "execution_count": 38,
   "metadata": {},
   "outputs": [
    {
     "name": "stdout",
     "output_type": "stream",
     "text": [
      "Getting legal moves for player 1...\n",
      "[(2, 0)]\n",
      "\n",
      "Applying move (2, 0) for player 1...\n",
      "New Board State: \n"
     ]
    },
    {
     "data": {
      "text/plain": [
       "{(0, 0): 'Closed',\n",
       " (0, 1): 'Closed',\n",
       " (1, 0): 'Closed',\n",
       " (1, 1): 'Closed',\n",
       " (2, 0): 'Closed',\n",
       " (2, 1): 'Closed'}"
      ]
     },
     "execution_count": 38,
     "metadata": {},
     "output_type": "execute_result"
    }
   ],
   "source": [
    "print(\"Getting legal moves for player 1...\")\n",
    "p1_empty_moves = g4.get_legal_moves()\n",
    "print(p1_empty_moves)\n",
    "\n",
    "print('')\n",
    "print(\"Applying move (2, 0) for player 1...\")\n",
    "g5 = g4.forecast_move((2, 0))\n",
    "\n",
    "print(\"New Board State: \")\n",
    "g5._board"
   ]
  },
  {
   "cell_type": "code",
   "execution_count": 44,
   "metadata": {},
   "outputs": [
    {
     "name": "stdout",
     "output_type": "stream",
     "text": [
      "Getting legal moves for player 2...\n",
      "[]\n"
     ]
    }
   ],
   "source": [
    "print(\"Getting legal moves for player 2...\")\n",
    "p2_empty_moves = g5.get_legal_moves()\n",
    "print(p2_empty_moves)\n",
    "\n",
    "# print('')\n",
    "# print(\"Applying move (2, 0) for player 2...\")\n",
    "# g5 = g4.forecast_move((2, 0))\n",
    "\n",
    "# print(\"New Board State: \")\n",
    "# g5._board"
   ]
  },
  {
   "cell_type": "markdown",
   "metadata": {
    "collapsed": true
   },
   "source": [
    "## Part 3: Implementing the Minimax Algorithm"
   ]
  },
  {
   "cell_type": "markdown",
   "metadata": {},
   "source": [
    "<p>You will implement the minimax algorithm in two parts, by first implementing helper functions (a terminal state test, min-value, and max-value), then implementing the decision function. Notice that the <code>min-value</code> and <code>max-value</code> functions only need to return a single value representing a score; the function for selecting a move will come later.</p>\n",
    "<p>We will also make two simplifying assumptions in order to adhere to the conventions of Thad's quizzes:</p>\n",
    "<ul>\n",
    "<li>Assumption 1: a state is terminal if the active player has no remaining moves</li>\n",
    "<li>Assumption 2: the board utility is -1 if it terminates at a max level, and +1 if it terminates at a min level</li>\n",
    "</ul>\n",
    "<p>The first assumption is only required in order to allow the second assumption. In general, we can determine that a game is terminal if <em>either</em> player has no remaining moves, but that would require terminal nodes at both min and max levels to support returning +1 or -1 depending on which player is the winner.  Restricting the terminal condition to the active player means that there is only one possible return value at min or max nodes.</p>\n",
    "<p>The second assumption is specified in the lecture quizzes. Technically, any pair of values can be used to indicate wins and losses so long as they admit an ordering such that the score for winning is greater than the score for losing; e.g., instead of -1 &amp; +1 you could you use -π &amp; π/2, or 100.99 &amp; 101.0, or -∞ &amp; +∞. It is common to use -∞ &amp; +∞ when a heuristic function is used (which we'll do in another project for this module) because it ensures that the heuristic value never exceeds the range of wins or losses.</p>\n",
    "<p><strong>Important Note:</strong> Notice that the value does not depend on which player is \"active\" on the board. A win for the searching player (the player that initiated the search from the root of the game tree) is always worth +1 and a loss is always worth -1. One <em>very</em> common mistake is to \"flip\" the utility between min and max nodes, but the score should be relative to the desirability of the outcome for the searching player.</p>\n",
    "<p>Now complete the helper functions in the quiz below.</p>"
   ]
  },
  {
   "cell_type": "markdown",
   "metadata": {},
   "source": [
    "### minimax_helpers.py"
   ]
  },
  {
   "cell_type": "code",
   "execution_count": 72,
   "metadata": {
    "collapsed": true
   },
   "outputs": [],
   "source": [
    "# Kev's Code\n",
    "\n",
    "def terminal_test(gameState):\n",
    "    \"\"\" Return True if the game is over for the active player\n",
    "    and False otherwise.\n",
    "    \"\"\"\n",
    "    if gameState.get_legal_moves() == []:\n",
    "        return True\n",
    "    else:\n",
    "        return False\n",
    "\n",
    "def min_value(gameState):\n",
    "    \"\"\" Return the value for a win (+1) if the game is over,\n",
    "    otherwise return the minimum value over all legal child\n",
    "    nodes.\n",
    "    \"\"\"\n",
    "    if terminal_test(gameState) == True:\n",
    "        return +1\n",
    "    else:\n",
    "        v = +1\n",
    "        for child_node in gameState.get_legal_moves():\n",
    "            v = min(v, max_value(gameState.forecast_move(child_node)))\n",
    "        return v\n",
    "\n",
    "\n",
    "def max_value(gameState):\n",
    "    \"\"\" Return the value for a loss (-1) if the game is over,\n",
    "    otherwise return the maximum value over all legal child\n",
    "    nodes.\n",
    "    \"\"\"\n",
    "    if terminal_test(gameState) == True:\n",
    "        return -1\n",
    "    else:\n",
    "        v = -1\n",
    "        for child_node in gameState.get_legal_moves():\n",
    "            v = max(v, min_value(gameState.forecast_move(child_node)))\n",
    "        return v\n"
   ]
  },
  {
   "cell_type": "markdown",
   "metadata": {},
   "source": [
    "### solution.py"
   ]
  },
  {
   "cell_type": "code",
   "execution_count": null,
   "metadata": {
    "collapsed": true
   },
   "outputs": [],
   "source": [
    "\n",
    "def terminal_test(gameState):\n",
    "    \"\"\" Return True if the game is over for the active player\n",
    "    and False otherwise.\n",
    "    \"\"\"\n",
    "    return not bool(gameState.get_legal_moves())  # by Assumption 1\n",
    "\n",
    "\n",
    "def min_value(gameState):\n",
    "    \"\"\" Return the value for a win (+1) if the game is over,\n",
    "    otherwise return the minimum value over all legal child\n",
    "    nodes.\n",
    "    \"\"\"\n",
    "    if terminal_test(gameState):\n",
    "        return 1  # by Assumption 2\n",
    "    v = float(\"inf\")\n",
    "    for m in gameState.get_legal_moves():\n",
    "        v = min(v, max_value(gameState.forecast_move(m)))\n",
    "    return v\n",
    "\n",
    "\n",
    "def max_value(gameState):\n",
    "    \"\"\" Return the value for a loss (-1) if the game is over,\n",
    "    otherwise return the maximum value over all legal child\n",
    "    nodes.\n",
    "    \"\"\"\n",
    "    if terminal_test(gameState):\n",
    "        return -1  # by assumption 2\n",
    "    v = float(\"-inf\")\n",
    "    for m in gameState.get_legal_moves():\n",
    "        v = max(v, min_value(gameState.forecast_move(m)))\n",
    "    return v\n"
   ]
  },
  {
   "cell_type": "markdown",
   "metadata": {},
   "source": [
    "### testcode.py"
   ]
  },
  {
   "cell_type": "code",
   "execution_count": 73,
   "metadata": {},
   "outputs": [
    {
     "name": "stdout",
     "output_type": "stream",
     "text": [
      "Calling min_value on an empty board...\n",
      "min_value() returned the expected score!\n"
     ]
    }
   ],
   "source": [
    "# from minimax_helpers import *\n",
    "\n",
    "# from gamestate import *\n",
    "\n",
    "g = GameState()\n",
    "\n",
    "print(\"Calling min_value on an empty board...\")\n",
    "v = min_value(g)\n",
    "\n",
    "if v == -1:\n",
    "    print(\"min_value() returned the expected score!\")\n",
    "else:\n",
    "    print(\"Uh oh! min_value() did not return the expected score.\")"
   ]
  },
  {
   "cell_type": "markdown",
   "metadata": {},
   "source": [
    "------------------------------------------------------------------------------------------------------------\n",
    "<p>Now it's time to bring it all together to complete the minimax algorithm.  The <code>minimax()</code> function should loop over the legal moves from the current state and return the move that has the highest score according to the <code>min_value()</code> helper function. (We call <code>min_value()</code> first instead of <code>max_value()</code> because the root node itself is a \"max\" node.) One way to implement this function has a body that looks very similar to the <code>max_value()</code> function, except that you must keep track of both the best score and best move (and return only the best move), but there are other ways as well (hint: check out the built-in <a target=\"_blank\" href=\"https://docs.python.org/2/library/functions.html#max\">max</a> function and the optional keyword argument <code>key</code>).</p>"
   ]
  },
  {
   "cell_type": "markdown",
   "metadata": {},
   "source": [
    "### minimax.py"
   ]
  },
  {
   "cell_type": "code",
   "execution_count": 74,
   "metadata": {
    "collapsed": true
   },
   "outputs": [],
   "source": [
    "# from minimax_helpers import *\n",
    "\n",
    "def minimax_decision(gameState):\n",
    "    \"\"\" Return the move along a branch of the game tree that\n",
    "    has the best possible value.  A move is a pair of coordinates\n",
    "    in (column, row) order corresponding to a legal move for\n",
    "    the searching player.\n",
    "    \n",
    "    You can ignore the special case of calling this function\n",
    "    from a terminal state.\n",
    "    \"\"\"\n",
    "    \n",
    "    v = -1\n",
    "    for child_node in gameState.get_legal_moves():\n",
    "        if min_value(gameState.forecast_move(child_node)) > v:\n",
    "            v = max(v, min_value(gameState.forecast_move(child_node)))\n",
    "            best_move = child_node\n",
    "    return best_move\n"
   ]
  },
  {
   "cell_type": "markdown",
   "metadata": {},
   "source": [
    "### testcode.py"
   ]
  },
  {
   "cell_type": "code",
   "execution_count": 77,
   "metadata": {},
   "outputs": [
    {
     "name": "stdout",
     "output_type": "stream",
     "text": [
      "Best move choices: [(0, 1), (2, 0), (0, 0)]\n",
      "Your code chose: (0, 0)\n",
      "That's one of the best move choices. Looks like your minimax-decision function worked!\n"
     ]
    }
   ],
   "source": [
    "\n",
    "# from minimax import *\n",
    "# from gamestate import *\n",
    "\n",
    "\n",
    "best_moves = set([(0, 0), (2, 0), (0, 1)])\n",
    "rootNode = GameState()\n",
    "minimax_move = minimax_decision(rootNode)\n",
    "\n",
    "print(\"Best move choices: {}\".format(list(best_moves)))\n",
    "print(\"Your code chose: {}\".format(minimax_move))\n",
    "\n",
    "if minimax_move in best_moves:\n",
    "    print(\"That's one of the best move choices. Looks like your minimax-decision function worked!\")\n",
    "else:\n",
    "    print(\"Uh oh...looks like there may be a problem.\")\n"
   ]
  },
  {
   "cell_type": "markdown",
   "metadata": {},
   "source": [
    "## Conclusion"
   ]
  },
  {
   "cell_type": "markdown",
   "metadata": {},
   "source": [
    "<p>That's it--you've completed the minimax algorithm! Your code should now correctly choose one of the winning branches of the game tree from an empty mini-isolation board, just like you did by hand in Thad's quiz. Moreover, if you implement the rules to another game (like tic-tac-toe) in the GameState class, your minimax code will work <em>without any changes</em> on that game, too!</p>\n",
    "<p>Future lessons will cover additional optimizations like depth-limiting, alpha-beta pruning, and iterative deepening that will allow minimax to work on even larger games (e.g.,  checkers, chess, etc.), and the project for this module will involve modifying and extending your code from this project to implement some of those techniques.</p>"
   ]
  }
 ],
 "metadata": {
  "kernelspec": {
   "display_name": "Python 3",
   "language": "python",
   "name": "python3"
  },
  "language_info": {
   "codemirror_mode": {
    "name": "ipython",
    "version": 3
   },
   "file_extension": ".py",
   "mimetype": "text/x-python",
   "name": "python",
   "nbconvert_exporter": "python",
   "pygments_lexer": "ipython3",
   "version": "3.6.3"
  }
 },
 "nbformat": 4,
 "nbformat_minor": 2
}
